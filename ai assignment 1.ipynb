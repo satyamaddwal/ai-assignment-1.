{
 "cells": [
  {
   "cell_type": "code",
   "execution_count": 8,
   "id": "ee895c78-4807-4f4c-8ffc-a479477f39aa",
   "metadata": {},
   "outputs": [
    {
     "name": "stdout",
     "output_type": "stream",
     "text": [
      "3.0\n"
     ]
    },
    {
     "data": {
      "text/plain": [
       "float"
      ]
     },
     "execution_count": 8,
     "metadata": {},
     "output_type": "execute_result"
    }
   ],
   "source": [
    "''' Question 1.Convert an integer to a floating-point number.'''\n",
    "\n",
    "# Solution\n",
    "a = 3\n",
    "b = float(a)\n",
    "print(b)\n",
    "type(b)"
   ]
  },
  {
   "cell_type": "code",
   "execution_count": 11,
   "id": "3e76eb3c-2879-48b3-9ceb-cec7abb3a1ce",
   "metadata": {},
   "outputs": [
    {
     "name": "stdout",
     "output_type": "stream",
     "text": [
      "3\n"
     ]
    },
    {
     "data": {
      "text/plain": [
       "int"
      ]
     },
     "execution_count": 11,
     "metadata": {},
     "output_type": "execute_result"
    }
   ],
   "source": [
    "''' Question 2. Convert a float to an integer.  '''\n",
    "\n",
    "# Solution\n",
    "\n",
    "a = 3.5\n",
    "b = int(a)\n",
    "print(b)\n",
    "type(b)"
   ]
  },
  {
   "cell_type": "code",
   "execution_count": 12,
   "id": "3ada7d6f-3a6f-4e09-bbae-76c4dc739ae8",
   "metadata": {},
   "outputs": [
    {
     "name": "stdout",
     "output_type": "stream",
     "text": [
      "45\n"
     ]
    },
    {
     "data": {
      "text/plain": [
       "str"
      ]
     },
     "execution_count": 12,
     "metadata": {},
     "output_type": "execute_result"
    }
   ],
   "source": [
    "''' Question 3. Convert an integer to a string.  '''\n",
    "\n",
    "# Solution\n",
    "\n",
    "a =45\n",
    "b = str(a)\n",
    "print(b)\n",
    "type(b)"
   ]
  },
  {
   "cell_type": "code",
   "execution_count": 14,
   "id": "eafe51b7-bb2c-4ba9-801d-e65c8900b2ab",
   "metadata": {},
   "outputs": [
    {
     "name": "stdout",
     "output_type": "stream",
     "text": [
      "(1, 2, 3, 4, 5, 6)\n"
     ]
    },
    {
     "data": {
      "text/plain": [
       "tuple"
      ]
     },
     "execution_count": 14,
     "metadata": {},
     "output_type": "execute_result"
    }
   ],
   "source": [
    "''' Question 4. Convert a list to a tuple.  '''\n",
    "\n",
    "# Solution\n",
    "\n",
    "l = [1,2,3,4,5,6]\n",
    "t = tuple(l)\n",
    "print(t)\n",
    "type(t)"
   ]
  },
  {
   "cell_type": "code",
   "execution_count": 17,
   "id": "e3c76907-fa20-4f74-8bd6-3b95f98310bd",
   "metadata": {},
   "outputs": [
    {
     "name": "stdout",
     "output_type": "stream",
     "text": [
      "[1, 2, 3, 4, 5, 6]\n"
     ]
    },
    {
     "data": {
      "text/plain": [
       "list"
      ]
     },
     "execution_count": 17,
     "metadata": {},
     "output_type": "execute_result"
    }
   ],
   "source": [
    "''' Question 5. Convert a tuple to a list.  '''\n",
    "\n",
    "# Solution\n",
    "\n",
    "t = (1,2,3,4,5,6)\n",
    "l = list(t)\n",
    "print(l)\n",
    "type(l)"
   ]
  },
  {
   "cell_type": "code",
   "execution_count": 6,
   "id": "0a1114db-cdc1-4705-8c24-929073b32ec2",
   "metadata": {},
   "outputs": [
    {
     "name": "stdin",
     "output_type": "stream",
     "text": [
      "enter a nuber 14\n"
     ]
    },
    {
     "name": "stdout",
     "output_type": "stream",
     "text": [
      "1110\n"
     ]
    }
   ],
   "source": [
    "''' Question 6. Convert a decimal number to binary.  '''\n",
    "\n",
    "#Solution\n",
    "\n",
    "n = int(input('enter a nuber'))\n",
    "s = ''\n",
    "while n >0:\n",
    "    r = n%2\n",
    "    s = str(r)+s\n",
    "    n = n//2\n",
    "print(int(s))\n"
   ]
  },
  {
   "cell_type": "code",
   "execution_count": null,
   "id": "db4a80ce-26be-4dc6-9f82-29dcf55952a1",
   "metadata": {},
   "outputs": [],
   "source": [
    "''' Question 7. Convert a non-zero number to boolean  '''\n",
    "\n",
    "# Solution\n",
    "\n",
    "num = 1\n",
    "t = bool(number)\n"
   ]
  }
 ],
 "metadata": {
  "kernelspec": {
   "display_name": "Python 3 (ipykernel)",
   "language": "python",
   "name": "python3"
  },
  "language_info": {
   "codemirror_mode": {
    "name": "ipython",
    "version": 3
   },
   "file_extension": ".py",
   "mimetype": "text/x-python",
   "name": "python",
   "nbconvert_exporter": "python",
   "pygments_lexer": "ipython3",
   "version": "3.10.8"
  }
 },
 "nbformat": 4,
 "nbformat_minor": 5
}
